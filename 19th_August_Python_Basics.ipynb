{
 "cells": [
  {
   "cell_type": "markdown",
   "id": "07653c39-22b2-4440-9c2d-0a8efc7dca0c",
   "metadata": {},
   "source": [
    "# Filename: 19th_August_Python_Basics.ipynb"
   ]
  },
  {
   "cell_type": "markdown",
   "id": "74905bf2-ea98-430d-991c-cf25eac35b44",
   "metadata": {},
   "source": [
    "## TOPIC 1: Python Basics Variable Questions:"
   ]
  },
  {
   "cell_type": "markdown",
   "id": "094f7083-aa62-4e1a-b5d9-37a1805fda24",
   "metadata": {},
   "source": [
    "### 1. Swap two variables without using temporary variable\n",
    "\n",
    "**Question:** Declare two variables, `x` and `y`, and assign them integer values. Swap the\n",
    "values of these variables without using any temporary variable."
   ]
  },
  {
   "cell_type": "code",
   "execution_count": 11,
   "id": "be6b44f7-cd7b-4284-aa2d-4ba1d28cd691",
   "metadata": {},
   "outputs": [
    {
     "name": "stdout",
     "output_type": "stream",
     "text": [
      "Before swapping: x = 10  y = 5\n",
      "After swapping: x = 5  y = 10\n"
     ]
    }
   ],
   "source": [
    "# Step 1: Declaring the variable:\n",
    "x = 10 \n",
    "y = 5\n",
    "print(\"Before swapping: x =\", x, \" y =\", y)\n",
    "\n",
    "# Step 2: Swapping x and y variable:\n",
    "x, y = y, x  \n",
    "\n",
    "# Step 3: Displaying the output to the user:\n",
    "print(\"After swapping: x =\", x, \" y =\", y)"
   ]
  },
  {
   "cell_type": "markdown",
   "id": "3549f422-23be-4851-9c3a-041b9ca928b9",
   "metadata": {},
   "source": [
    "**Explanation for above program:**\n",
    "\n",
    "- In Python, we can swap two values by packing them into a tuple on the left side, and unpacking them into the variables on the right side.\n",
    "This allows swapping without needing a temporary variable."
   ]
  },
  {
   "cell_type": "markdown",
   "id": "40c1ee89-231d-4490-a64b-bc8624f7d08c",
   "metadata": {},
   "source": [
    "### 2. Calculate rectangle area:\n",
    "**Question:** Create a program that calculates the area of a rectangle. Take the length and\n",
    "width as inputs from the user and store them in variables. Calculate and\n",
    "display the area."
   ]
  },
  {
   "cell_type": "code",
   "execution_count": 14,
   "id": "725e3647-dafa-4ed5-b5ee-d1a1137199e5",
   "metadata": {
    "tags": []
   },
   "outputs": [
    {
     "name": "stdin",
     "output_type": "stream",
     "text": [
      "Enter length of rectangle:  45\n",
      "Enter width of rectangle:  63\n"
     ]
    },
    {
     "name": "stdout",
     "output_type": "stream",
     "text": [
      "Area of rectangle: 2835.0\n"
     ]
    }
   ],
   "source": [
    "# Step 1: Collecting user input in float data type:\n",
    "\n",
    "length = float(input(\"Enter length of rectangle: \"))\n",
    "width = float(input(\"Enter width of rectangle: \"))\n",
    "\n",
    "# Step 2: Calculating area of rectangle using below formula:\n",
    "area = length * width\n",
    "\n",
    "# Step 3: Displaying the output to the user:\n",
    "print(\"Area of rectangle:\", area) "
   ]
  },
  {
   "cell_type": "markdown",
   "id": "8619af6c-04d9-47f6-89fe-14deb1ca0ddc",
   "metadata": {},
   "source": [
    "**Explanation for above program:**\n",
    "\n",
    "- To calculate the area of a rectangle, we take length and width input from user. \n",
    "We convert the input to float, since it will be a numeric value.\n",
    "Then we simply multiply length and width to calculate and print the area."
   ]
  },
  {
   "cell_type": "markdown",
   "id": "d65e4bf7-fe06-409a-baf9-0ddb7e99ad6e",
   "metadata": {},
   "source": [
    "### 3. Celsius to Fahrenheit conversion:\n",
    "**Question:** Write a Python program that converts temperatures from Celsius to\n",
    "Fahrenheit. Take the temperature in Celsius as input, store it in a variable,\n",
    "convert it to Fahrenheit, and display the result."
   ]
  },
  {
   "cell_type": "code",
   "execution_count": 10,
   "id": "c27dfe3e-1034-4713-b542-9f2e5f06cc10",
   "metadata": {},
   "outputs": [
    {
     "name": "stdin",
     "output_type": "stream",
     "text": [
      "Enter temperature in Celsius:  30\n"
     ]
    },
    {
     "name": "stdout",
     "output_type": "stream",
     "text": [
      "30.0 Celsius is equal to 86.0 Fahrenheit\n"
     ]
    }
   ],
   "source": [
    "# Step 1: Collecting user input in float data type:\n",
    "celsius = float(input(\"Enter temperature in Celsius: \"))\n",
    "\n",
    "# Step 2: Converting celsius to fahrenheit using below formula:\n",
    "fahrenheit = (celsius * 9/5) + 32\n",
    "\n",
    "# Step 3: Displaying the output to the user:\n",
    "print(celsius, \"Celsius is equal to\", fahrenheit, \"Fahrenheit\")"
   ]
  },
  {
   "cell_type": "markdown",
   "id": "97b1027f-cb94-4873-9caf-f12e9d161afd",
   "metadata": {},
   "source": [
    "**Explanation for above program:**\n",
    "\n",
    "- To convert Celsius to Fahrenheit, we use the formula: \n",
    "\n",
    "**F = (C * 9/5) + 32**\n",
    "- Where C is the temperature in Celsius, and F is in Fahrenheit.\n",
    "- We take input and convert to float. Then apply the formula to calculate F."
   ]
  },
  {
   "cell_type": "markdown",
   "id": "6f551432-3b1e-4d6b-9446-c5a5092ff201",
   "metadata": {},
   "source": [
    "## TOPIC 2: String Based Questions:"
   ]
  },
  {
   "cell_type": "markdown",
   "id": "ea6057e4-e117-40af-a88c-d894dc18d4e0",
   "metadata": {},
   "source": [
    "### 1. Print length of string:\n",
    "**Question:** Write a Python program that takes a string as input and prints the length of\n",
    "the string."
   ]
  },
  {
   "cell_type": "code",
   "execution_count": 1,
   "id": "55c5fde8-a4bc-4aff-8acb-ffa29c46c1d3",
   "metadata": {},
   "outputs": [
    {
     "name": "stdin",
     "output_type": "stream",
     "text": [
      "Enter a string:  Hi there!\n"
     ]
    },
    {
     "name": "stdout",
     "output_type": "stream",
     "text": [
      "Length of string is: 9\n"
     ]
    }
   ],
   "source": [
    "# Step 1: Collecting user input:\n",
    "my_string = input(\"Enter a string: \")\n",
    "\n",
    "# Step 2: Displaying the output to the user:\n",
    "print(\"Length of string is:\", len(my_string))"
   ]
  },
  {
   "cell_type": "markdown",
   "id": "82d4740c-f147-48d9-bf3c-8f68e667ccd6",
   "metadata": {},
   "source": [
    "**Explanation for above program:**\n",
    "\n",
    "- To find length of a string, we can use the len() function. len() returns the number of characters in the string."
   ]
  },
  {
   "cell_type": "markdown",
   "id": "121fd4a5-7fda-4a32-b784-0c54c9df348a",
   "metadata": {},
   "source": [
    "### 2. Count vowels in string:\n",
    "**Question:** Create a program that takes a sentence from the user and counts the number\n",
    "of vowels (a, e, i, o, u) in the string."
   ]
  },
  {
   "cell_type": "code",
   "execution_count": 5,
   "id": "39ddb089-34f8-4006-bb5f-048d1851a227",
   "metadata": {},
   "outputs": [
    {
     "name": "stdin",
     "output_type": "stream",
     "text": [
      "Enter a sentence:  How are you doing?\n"
     ]
    },
    {
     "name": "stdout",
     "output_type": "stream",
     "text": [
      "Number of vowels in sentence: 7\n"
     ]
    }
   ],
   "source": [
    "# Step 1: Collecting user input:\n",
    "sentence = input(\"Enter a sentence: \")\n",
    "\n",
    "# Step 2: Initializing vowel count variable and vowels string:\n",
    "count = 0  \n",
    "vowels = \"aeiouAEIOU\"\n",
    "\n",
    "# Step 3: Iterating through characters in sentence:\n",
    "for char in sentence:\n",
    "\n",
    "# Step 4: Checking if character is a vowel:\n",
    "  if char in vowels:\n",
    "    \n",
    "# Step 5: Incrementing vowel count if vowel is found in given sentence:\n",
    "    count += 1\n",
    "\n",
    "# Step 6: Printing number of vowels:\n",
    "print(\"Number of vowels in sentence:\", count)"
   ]
  },
  {
   "cell_type": "markdown",
   "id": "07f2ac4d-7ebf-4787-b160-6b797b7612ac",
   "metadata": {},
   "source": [
    "**Explanation for above program:**\n",
    "\n",
    "- We initialize a count to 0, and have a string containing all vowels.\n",
    "- We loop through each character in the input sentence.\n",
    "- If the character is present in vowels string, we increment the count.\n",
    "- Finally, print the total count of vowels."
   ]
  },
  {
   "cell_type": "markdown",
   "id": "fa6f0817-2109-4a63-96d5-8c184942931d",
   "metadata": {},
   "source": [
    "### 3. Reverse string:\n",
    "**Question:** Given a string, reverse the order of characters using string slicing and print\n",
    "the reversed string."
   ]
  },
  {
   "cell_type": "code",
   "execution_count": 6,
   "id": "deac6b8d-91b5-4e24-804c-730ff2ca5948",
   "metadata": {},
   "outputs": [
    {
     "name": "stdin",
     "output_type": "stream",
     "text": [
      "Enter a string:  Hello World!\n"
     ]
    },
    {
     "name": "stdout",
     "output_type": "stream",
     "text": [
      "Reversed string is: !dlroW olleH\n"
     ]
    }
   ],
   "source": [
    "# Step 1: Get input string from user\n",
    "my_string = input(\"Enter a string: \")  \n",
    "\n",
    "# Step 2: Reverse string using slicing \n",
    "reversed_string = my_string[::-1]\n",
    "\n",
    "# Step 3: Print reversed string \n",
    "print(\"Reversed string is:\", reversed_string)"
   ]
  },
  {
   "cell_type": "markdown",
   "id": "98a639c1-14b6-4dca-a421-6c0c637fd4b1",
   "metadata": {},
   "source": [
    "**Explanation for above program:**\n",
    "\n",
    "- Slicing the string from start to end with a step of -1 reverses the string.\n",
    "- my_string[ : : -1] slices my_string from end to start, hence reversing it.\n",
    "\n",
    "**String slicing syntax:** \n",
    "- my_string[start:end:step]\n",
    "- Omitting start and end defaults to the full string\n",
    "- Step of -1 reverse the string"
   ]
  },
  {
   "cell_type": "markdown",
   "id": "f58d52c1-4bc7-4999-a2d8-57f7d9676081",
   "metadata": {},
   "source": [
    "### 4. Check if string is palindrome:\n",
    "**Question:** Write a program that takes a string as input and checks if it is a palindrome\n",
    "(reads the same forwards and backwards)."
   ]
  },
  {
   "cell_type": "code",
   "execution_count": 10,
   "id": "7d30dd83-bbd2-4234-8e3f-081dd39f2e4e",
   "metadata": {},
   "outputs": [
    {
     "name": "stdin",
     "output_type": "stream",
     "text": [
      "Enter a word to check if it is a palindrome:  RefEr\n"
     ]
    },
    {
     "name": "stdout",
     "output_type": "stream",
     "text": [
      "RefEr is a palindrome\n"
     ]
    }
   ],
   "source": [
    "# Step 1: Get input string from user\n",
    "my_string = input(\"Enter a word to check if it is a palindrome: \")\n",
    "\n",
    "# Step 2: Converting the string to lower case:\n",
    "lower_str = my_string.lower()\n",
    "\n",
    "# Step 3: Reverse the input string using slicing \n",
    "reversed_string = lower_str[::-1]  \n",
    "\n",
    "# Step 3: Compare original and reversed strings\n",
    "if lower_str == reversed_string:\n",
    "\n",
    "  # Step 4a: If strings match, print palindrome message\n",
    "  print(my_string, \"is a palindrome\")\n",
    "\n",
    "else:\n",
    "\n",
    "  # Step 4b: If strings don't match, print not palindrome   \n",
    "  print(my_string, \"is not a palindrome\")"
   ]
  },
  {
   "cell_type": "markdown",
   "id": "c2d70342-d560-4817-baa9-406f016fa22a",
   "metadata": {},
   "source": [
    "**Explanation for above program:**\n",
    "\n",
    "- We reverse the input string using slicing. Then we compare original and reversed strings.\n",
    "- If both are equal, string is palindrome."
   ]
  },
  {
   "cell_type": "markdown",
   "id": "1fbe7473-6833-4043-8dbf-2bfcacc51b93",
   "metadata": {},
   "source": [
    "### 5. Remove spaces from string:\n",
    "**Question:** Create a program that takes a string as input and removes all the spaces from\n",
    "it. Print the modified string without spaces."
   ]
  },
  {
   "cell_type": "code",
   "execution_count": 13,
   "id": "97e40705-4d96-4765-a856-af3fd97a9716",
   "metadata": {},
   "outputs": [
    {
     "name": "stdin",
     "output_type": "stream",
     "text": [
      "Enter a string:  Hi there !\n"
     ]
    },
    {
     "name": "stdout",
     "output_type": "stream",
     "text": [
      "String with spaces removed: Hithere!\n"
     ]
    }
   ],
   "source": [
    "# Step 1: Get input string from user\n",
    "my_string = input(\"Enter a string: \")\n",
    "\n",
    "# Step 2: Remove all spaces from string \n",
    "no_spaces = my_string.replace(\" \", \"\")  \n",
    "\n",
    "# Step 3: Print string without spaces\n",
    "print(\"String with spaces removed:\", no_spaces)"
   ]
  },
  {
   "cell_type": "markdown",
   "id": "331ac3cb-370a-4746-b38e-8bfa86df9e70",
   "metadata": {},
   "source": [
    "**Explanation for above program:**\n",
    "\n",
    "- We use string replace method to replace all spaces \" \" with empty string \"\".\n",
    "- This removes all spaces from the string."
   ]
  },
  {
   "cell_type": "code",
   "execution_count": null,
   "id": "220e755e-2320-4842-b95c-1962e8cd5055",
   "metadata": {},
   "outputs": [],
   "source": []
  }
 ],
 "metadata": {
  "kernelspec": {
   "display_name": "Python 3 (ipykernel)",
   "language": "python",
   "name": "python3"
  },
  "language_info": {
   "codemirror_mode": {
    "name": "ipython",
    "version": 3
   },
   "file_extension": ".py",
   "mimetype": "text/x-python",
   "name": "python",
   "nbconvert_exporter": "python",
   "pygments_lexer": "ipython3",
   "version": "3.10.8"
  }
 },
 "nbformat": 4,
 "nbformat_minor": 5
}
